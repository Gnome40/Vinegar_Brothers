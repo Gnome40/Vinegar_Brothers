{
 "cells": [
  {
   "cell_type": "markdown",
   "id": "1546115c-c227-4d26-b52e-146c6979605e",
   "metadata": {},
   "source": [
    "## Examples from Python Tutorial\n",
    "\n",
    "### 5.5 Dictionaries\n",
    "https://docs.python.org/3.8/tutorial/datastructures.html#dictionaries"
   ]
  },
  {
   "cell_type": "code",
   "execution_count": 4,
   "id": "d45dae0e-0346-461e-99a2-c318dae3a0b4",
   "metadata": {},
   "outputs": [
    {
     "name": "stdout",
     "output_type": "stream",
     "text": [
      "{'sape': 4139, 'guido': 4127, 'jack': 4098}\n"
     ]
    }
   ],
   "source": [
    "guys = dict([('sape', 4139), ('guido', 4127), ('jack', 4098)])\n",
    "print(guys)"
   ]
  },
  {
   "cell_type": "code",
   "execution_count": 10,
   "id": "919eaca8-b2c4-4270-be2e-4aff5b5c27f3",
   "metadata": {},
   "outputs": [
    {
     "data": {
      "text/plain": [
       "['sape', 'guido', 'jack']"
      ]
     },
     "execution_count": 10,
     "metadata": {},
     "output_type": "execute_result"
    }
   ],
   "source": [
    "list(guys)"
   ]
  },
  {
   "cell_type": "code",
   "execution_count": 11,
   "id": "b193edfe-148b-4cd2-ab59-08a88d141474",
   "metadata": {},
   "outputs": [
    {
     "data": {
      "text/plain": [
       "['guido', 'jack', 'sape']"
      ]
     },
     "execution_count": 11,
     "metadata": {},
     "output_type": "execute_result"
    }
   ],
   "source": [
    "sorted(guys)"
   ]
  },
  {
   "cell_type": "code",
   "execution_count": 8,
   "id": "1cfa2918-e6a2-48a8-8fc2-33499c9a8bf1",
   "metadata": {},
   "outputs": [
    {
     "data": {
      "text/plain": [
       "{2: 4, 4: 16, 6: 36}"
      ]
     },
     "execution_count": 8,
     "metadata": {},
     "output_type": "execute_result"
    }
   ],
   "source": [
    "{x: x**2 for x in (2, 4, 6)}"
   ]
  },
  {
   "cell_type": "code",
   "execution_count": 5,
   "id": "06d54551-84e5-4353-90ca-9e2f57371408",
   "metadata": {},
   "outputs": [
    {
     "name": "stdout",
     "output_type": "stream",
     "text": [
      "gallahad the pure\n",
      "robin the brave\n"
     ]
    }
   ],
   "source": [
    "knights = {'gallahad': 'the pure', 'robin': 'the brave'}\n",
    ">>> for k, v in knights.items():\n",
    "...    print(k, v)"
   ]
  },
  {
   "cell_type": "code",
   "execution_count": 6,
   "id": "56719cf9-806b-4e20-bd5c-893519561970",
   "metadata": {},
   "outputs": [
    {
     "name": "stdout",
     "output_type": "stream",
     "text": [
      "0 tic\n",
      "1 tac\n",
      "2 toe\n"
     ]
    }
   ],
   "source": [
    "for i, v in enumerate(['tic', 'tac', 'toe']):\n",
    "...     print(i, v)"
   ]
  },
  {
   "cell_type": "code",
   "execution_count": 7,
   "id": "1b9f5ff1-c89d-4d94-bafa-e1a7669dec82",
   "metadata": {},
   "outputs": [
    {
     "name": "stdout",
     "output_type": "stream",
     "text": [
      "What is your name?  It is lancelot.\n",
      "What is your quest?  It is the holy grail.\n",
      "What is your favorite color?  It is blue.\n"
     ]
    }
   ],
   "source": [
    "questions = ['name', 'quest', 'favorite color']\n",
    ">>> answers = ['lancelot', 'the holy grail', 'blue']\n",
    ">>> for q, a in zip(questions, answers):\n",
    "...     print('What is your {0}?  It is {1}.'.format(q, a))\n",
    "..."
   ]
  },
  {
   "cell_type": "code",
   "execution_count": 12,
   "id": "2c67d830-871c-40c3-9702-0ede047a2691",
   "metadata": {},
   "outputs": [],
   "source": [
    "x=3"
   ]
  },
  {
   "cell_type": "markdown",
   "id": "9f461c85-db79-4e51-81ce-b4fdaaf19a74",
   "metadata": {},
   "source": [
    "## For Demonstration Videos, find my channel on Youtube @jaredscribe"
   ]
  },
  {
   "cell_type": "code",
   "execution_count": null,
   "id": "60bd7b97-c6c9-43c3-92e2-80d9a666ed90",
   "metadata": {
    "jupyter": {
     "source_hidden": true
    },
    "tags": []
   },
   "outputs": [],
   "source": []
  }
 ],
 "metadata": {
  "kernelspec": {
   "display_name": "Python 3 (ipykernel)",
   "language": "python",
   "name": "python3"
  },
  "language_info": {
   "codemirror_mode": {
    "name": "ipython",
    "version": 3
   },
   "file_extension": ".py",
   "mimetype": "text/x-python",
   "name": "python",
   "nbconvert_exporter": "python",
   "pygments_lexer": "ipython3",
   "version": "3.8.5"
  }
 },
 "nbformat": 4,
 "nbformat_minor": 5
}
