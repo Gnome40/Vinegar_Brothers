{
 "cells": [
  {
   "cell_type": "markdown",
   "id": "b5c00186-cf16-4969-8482-f4f320c53369",
   "metadata": {},
   "source": [
    "# Intro to Jupyter Notebooks\n",
    "As demonstrated here:\n",
    "https://www.youtube.com/watch?v=A5YyoCKxEOU 1:50 - 6:35\n",
    "Watch the video and edit your own notebook with me:"
   ]
  },
  {
   "cell_type": "markdown",
   "id": "8cc948af-b71d-482b-92fc-37859bd75d29",
   "metadata": {},
   "source": [
    "Command mode:  for navigating and changing the framework of your notebook"
   ]
  },
  {
   "cell_type": "code",
   "execution_count": null,
   "id": "d316f652-c480-4016-9e8b-24de75002937",
   "metadata": {},
   "outputs": [],
   "source": []
  },
  {
   "cell_type": "markdown",
   "id": "d14fe034-572b-4e43-b397-992628fdbff2",
   "metadata": {
    "tags": []
   },
   "source": [
    "The notebook presentation framework is composed of \"cells\", like a spreadsheet."
   ]
  },
  {
   "cell_type": "markdown",
   "id": "80f12e64-f0fc-4a62-b4b9-09cd09417b69",
   "metadata": {},
   "source": [
    "# Heading"
   ]
  },
  {
   "cell_type": "markdown",
   "id": "3091e163-1861-46fa-8fde-fb4ba7bcea61",
   "metadata": {},
   "source": [
    "## H2"
   ]
  },
  {
   "cell_type": "markdown",
   "id": "1c826a50-0584-4807-91dc-363dc6a1119a",
   "metadata": {
    "jupyter": {
     "source_hidden": true
    },
    "tags": []
   },
   "source": [
    "*italics*\n",
    "\n",
    "**bold**\n",
    "\n",
    "- one\n",
    "- two\n",
    "- three\n",
    "\n",
    "1. hi\n",
    "2. bye\n",
    "\n",
    "> Blockquote\n",
    "> block\n",
    "\n",
    "Type some `inline code`\n",
    "\n",
    "```\n",
    "code block\n",
    "block\n",
    "again\n",
    "```\n",
    "\n",
    "### Equations\n",
    "\n",
    "$ x^2 $\n",
    "\n",
    "www.jupyter.org\n"
   ]
  },
  {
   "cell_type": "code",
   "execution_count": 2,
   "id": "eb3fca7c-b336-455b-b012-b1bde36b43f1",
   "metadata": {},
   "outputs": [
    {
     "name": "stdout",
     "output_type": "stream",
     "text": [
      "2\n"
     ]
    }
   ],
   "source": [
    "x = 2\n",
    "print(x)"
   ]
  },
  {
   "cell_type": "code",
   "execution_count": 3,
   "id": "16514127-bf15-4400-8b37-93d6e2af2f4c",
   "metadata": {},
   "outputs": [
    {
     "name": "stdout",
     "output_type": "stream",
     "text": [
      "5\n",
      "2\n"
     ]
    }
   ],
   "source": [
    "y = 5\n",
    "print(y)\n",
    "print(x)\n"
   ]
  },
  {
   "cell_type": "code",
   "execution_count": null,
   "id": "2da9d8ca-9898-4437-b214-39fe3117eb60",
   "metadata": {},
   "outputs": [],
   "source": []
  },
  {
   "cell_type": "code",
   "execution_count": 10,
   "id": "48568084-db4f-4306-bebe-079ff958edb0",
   "metadata": {},
   "outputs": [],
   "source": [
    "x = 10"
   ]
  },
  {
   "cell_type": "code",
   "execution_count": null,
   "id": "66210ea7-7dc9-41ec-9f2e-d28220f759db",
   "metadata": {},
   "outputs": [],
   "source": []
  }
 ],
 "metadata": {
  "kernelspec": {
   "display_name": "Python 3 (ipykernel)",
   "language": "python",
   "name": "python3"
  },
  "language_info": {
   "codemirror_mode": {
    "name": "ipython",
    "version": 3
   },
   "file_extension": ".py",
   "mimetype": "text/x-python",
   "name": "python",
   "nbconvert_exporter": "python",
   "pygments_lexer": "ipython3",
   "version": "3.8.5"
  }
 },
 "nbformat": 4,
 "nbformat_minor": 5
}
